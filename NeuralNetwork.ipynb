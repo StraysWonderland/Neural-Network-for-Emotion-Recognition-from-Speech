{
 "cells": [
  {
   "cell_type": "markdown",
   "metadata": {},
   "source": [
    "# Neural Network for Emotion Recognition from Speech\n",
    "Recognizes emotion by classifying binary  Valence/arousal values for given utterances.\n",
    "Provide input data by extracting 13MFCC features (via OpenSMILE) and export to binary files.\n",
    "Network consists of one convolution layer\n",
    "\n",
    "Created in cooperation with:\n",
    "[nymvno](https://github.com/nymvno) \n",
    "&\n",
    "[StrohmFn](https://github.com/StrohmFn) "
   ]
  },
  {
   "cell_type": "code",
   "execution_count": null,
   "metadata": {},
   "outputs": [],
   "source": [
    "import numpy as np\n",
    "import tensorflow as tf\n",
    "import random\n",
    "import math"
   ]
  },
  {
   "cell_type": "markdown",
   "metadata": {},
   "source": [
    "## loading input data\n",
    "loads training and testing data from both datasets, as well as the label-sets"
   ]
  },
  {
   "cell_type": "code",
   "execution_count": null,
   "metadata": {},
   "outputs": [],
   "source": [
    "# load input data\n",
    "filepath = 'Input'\n",
    "\n",
    "# IEMOCAP data\n",
    "\n",
    "# load IEMOCAP input and labels to numpy arrays\n",
    "samples_train_ENG = np.load(filepath + '/IEMOCAP/IEMOCAP_feature_train.npy')\n",
    "labels_train_ENG = np.load(filepath + '/IEMOCAP/IEMOCAP_labels_train.npy')\n",
    "\n",
    "# load IMEOCAP testset\n",
    "samples_test_ENG =  np.load(filepath + '/IEMOCAP/IEMOCAP_feature_valid.npy')\n",
    "labels_test_ENG =  np.load(filepath + '/IEMOCAP/IEMOCAP_labels_valid.npy')\n",
    "\n",
    "# RECOLA data\n",
    "\n",
    "# load RECOLA input and labels to numpy arrays\n",
    "samples_train_FR = np.load(filepath + '/RECOLA/RECOLA_feature_train.npy')\n",
    "labels_train_FR = np.load(filepath + '/RECOLA/RECOLA_labels_train.npy')\n",
    "\n",
    "# load RECOLA testset\n",
    "samples_test_FR =  np.load(filepath + '/RECOLA/RECOLA_feature_valid.npy')\n",
    "labels_test_FR =  np.load(filepath + '/RECOLA/RECOLA_labels_valid.npy')"
   ]
  },
  {
   "cell_type": "markdown",
   "metadata": {},
   "source": [
    "Define the hyperparameters for our network"
   ]
  },
  {
   "cell_type": "code",
   "execution_count": null,
   "metadata": {},
   "outputs": [],
   "source": [
    "ITERATIONS = 50000\n",
    "BATCH_SIZE = 50\n",
    "LEARN_RATE = 0.01\n",
    "DISPLAY_STEP = 10"
   ]
  },
  {
   "cell_type": "markdown",
   "metadata": {},
   "source": [
    "## set to mono- , multi- or alternating-language training\n",
    "- French percentile:defines the amount of french data used during training.\n",
    "use it to switch between mono-(0 or 1) and multi-lingual training (0<x<1)\n",
    "\n",
    "- alternating training: each mini-batch is mono-lingual, but alternate between english and french mini-batches during training."
   ]
  },
  {
   "cell_type": "code",
   "execution_count": null,
   "metadata": {},
   "outputs": [],
   "source": [
    "# define english-to-french ratio used during training\n",
    "INPUT_FRENCH_PERCENTILE = 0.5\n",
    "\n",
    "# train network by alternating the language in each batch?\n",
    "USE_ALTERNATING_TRAINING = False"
   ]
  },
  {
   "cell_type": "markdown",
   "metadata": {},
   "source": [
    "## network parameters\n",
    "- number of frames that each sample of current dataset is set to ( is set dynamically base on set used )\n",
    "- number of samples in each dataset\n",
    "- number of features used ( MFCC or LOGMEL? )\n",
    "- output classes\n",
    "- droput/keep-probability"
   ]
  },
  {
   "cell_type": "code",
   "execution_count": null,
   "metadata": {},
   "outputs": [],
   "source": [
    "# define number of frames for each sample based on language used\n",
    "n_frames_eng = int(len(samples_train_ENG)/len(labels_train_ENG))\n",
    "n_frames_fr = int(len(samples_train_FR)/len(labels_train_FR))\n",
    "\n",
    "# set the number of samples for both datasets\n",
    "n_samples_ENG = len(labels_train_ENG)\n",
    "n_samples_FR = len(labels_train_FR)\n",
    "\n",
    "# set number of frames based on used language\n",
    "if INPUT_FRENCH_PERCENTILE == 0:\n",
    "    n_frames = n_frames_eng\n",
    "elif INPUT_FRENCH_PERCENTILE == 1:\n",
    "    n_frames = n_frames_fr\n",
    "else:\n",
    "    n_frames = int((n_frames_eng + n_frames_fr) / 2)\n",
    "    \n",
    "n_features = len(samples_train_ENG[0])\n",
    "n_convInput = n_frames * n_features\n",
    "n_classes = 4\n",
    "dropout = 0.5\n",
    "\n",
    "# 2 gateways for our data: one for sound samples & one for labels\n",
    "x = tf.placeholder(tf.float32, shape=(None, n_features*n_frames), name=\"Input\")\n",
    "y = tf.placeholder(tf.float32, shape=(None, n_classes), name=\"Prediction\")\n",
    "\n",
    "# gateway for dropout\n",
    "keep_prob =  tf.placeholder(tf.float32, name=\"Dropout\")"
   ]
  },
  {
   "cell_type": "markdown",
   "metadata": {},
   "source": [
    "## generate training batches\n",
    "method created by [StrohmFn](https://github.com/StrohmFn) \n",
    "\n",
    "adds english then french samples based on specified french_percentile\n",
    "\n",
    "padds each sample to specified number of frames, iff required."
   ]
  },
  {
   "cell_type": "code",
   "execution_count": null,
   "metadata": {},
   "outputs": [],
   "source": [
    "# function to generate each batch\n",
    "positions_ENG = np.arange(n_samples_ENG)\n",
    "positions_FR = np.arange(n_samples_FR)\n",
    "random.shuffle(positions_ENG)\n",
    "random.shuffle(positions_FR)\n",
    "current_position_ENG = 0\n",
    "current_position_FR = 0\n",
    "ENG_proportion = int(round((1-INPUT_FRENCH_PERCENTILE)*BATCH_SIZE, 0))\n",
    "FR_proportion = int(round(INPUT_FRENCH_PERCENTILE*BATCH_SIZE, 0))\n",
    "\n",
    "# creates new training batch\n",
    "def get_next_train_batch():\n",
    "    global USE_ALTERNATING_TRAINING\n",
    "    if(USE_ALTERNATING_TRAINING):\n",
    "        toggle_language()\n",
    "    batch_samples = []\n",
    "    batch_labels = []\n",
    "    global current_position_ENG\n",
    "    global current_position_FR\n",
    "    current_position_ENG += ENG_proportion\n",
    "    current_position_FR += FR_proportion\n",
    "    #  check if there are enough training samples left for a batch, otherwise shuffle and start from beginning\n",
    "    if current_position_ENG >= n_samples_ENG :\n",
    "        random.shuffle(positions_ENG)\n",
    "        current_position_ENG = ENG_proportion\n",
    "    if current_position_FR >= n_samples_FR :\n",
    "        random.shuffle(positions_FR)\n",
    "        current_position_FR = FR_proportion\n",
    "    # add english samples to the batch\n",
    "    for i in range(current_position_ENG - ENG_proportion, current_position_ENG):\n",
    "        batch_labels.append(labels_train_ENG[positions_ENG[i]])\n",
    "        sample_frames = []\n",
    "        counter = 0\n",
    "        for j in range (positions_ENG[i] * n_frames_eng, positions_ENG[i] * n_frames_eng + n_frames):\n",
    "            counter += 1\n",
    "            if counter <= n_frames_eng:\n",
    "                for k in range (0,n_features):  # add real features to batch\n",
    "                    sample_frames.append(samples_train_ENG[j][k])\n",
    "            else:  # add zeros in order to match a certain frames length\n",
    "                for k in range (0,n_features):\n",
    "                    sample_frames.append(0)\n",
    "        batch_samples.append(sample_frames)\n",
    "    # add french samples to the batch\n",
    "    for i in range(current_position_FR - FR_proportion, current_position_FR):\n",
    "        batch_labels.append(labels_train_FR[positions_FR[i]])\n",
    "        sample_frames = []\n",
    "        counter = 0\n",
    "        for j in range (positions_FR[i] * n_frames_fr, positions_FR[i] * n_frames_fr + n_frames):\n",
    "            counter += 1\n",
    "            if counter <= n_frames_fr:  # add real features to batch\n",
    "                for k in range (0,n_features):\n",
    "                    sample_frames.append(samples_train_FR[j][k])\n",
    "            else:  # add zeros in order to match a certain frames length\n",
    "                for k in range (0,n_features):\n",
    "                    sample_frames.append(0)\n",
    "        batch_samples.append(sample_frames)\n",
    "    return batch_samples, batch_labels"
   ]
  },
  {
   "cell_type": "markdown",
   "metadata": {},
   "source": [
    "## alternating-language training\n",
    "method implemented by [StraysWonderland](https://github.com/StraysWonderland) \n",
    "if use-alternating-language-training is set to true,\n",
    "this method alternates the language used in each mini-batch"
   ]
  },
  {
   "cell_type": "code",
   "execution_count": null,
   "metadata": {},
   "outputs": [],
   "source": [
    "# if alternating-language-training is enabled, toggles language after each batch\n",
    "USE_FRENCH = True\n",
    "\n",
    "def toggle_language():\n",
    "    global USE_FRENCH\n",
    "    global n_frames\n",
    "    global FRENCH_PERCENTILE\n",
    "    global ENG_proportion\n",
    "    global FR_proportion\n",
    "    if(USE_FRENCH == True):\n",
    "        FRENCH_PERCENTILE = 1\n",
    "        USE_FRENCH = False\n",
    "        ENG_proportion = int(round((1-FRENCH_PERCENTILE)*BATCH_SIZE, 0))\n",
    "        FR_proportion = int(round(FRENCH_PERCENTILE*BATCH_SIZE, 0))\n",
    "    else:\n",
    "        FRENCH_PERCENTILE = 0\n",
    "        USE_FRENCH = True\n",
    "        ENG_proportion = int(round((1-FRENCH_PERCENTILE)*BATCH_SIZE, 0))\n",
    "        FR_proportion = int(round(FRENCH_PERCENTILE*BATCH_SIZE, 0))#"
   ]
  },
  {
   "cell_type": "markdown",
   "metadata": {},
   "source": [
    "### generate batches for testing"
   ]
  },
  {
   "cell_type": "code",
   "execution_count": null,
   "metadata": {},
   "outputs": [],
   "source": [
    "# create english test batch\n",
    "def get_test_batch_eng(samples, labels):\n",
    "    batch_samples = []\n",
    "    # add english test samples\n",
    "    for i in range(0, len(labels)):\n",
    "        sample_frames = []\n",
    "        counter = 0\n",
    "        for j in range (i * n_frames_eng, i * n_frames_eng + n_frames):\n",
    "            counter += 1\n",
    "            if counter <= n_frames_eng:\n",
    "                for k in range (0,n_features):\n",
    "                    sample_frames.append(samples[j][k])\n",
    "            else:\n",
    "                for k in range (0,n_features):\n",
    "                    sample_frames.append(0)\n",
    "        batch_samples.append(sample_frames)\n",
    "    return batch_samples\n",
    "\n",
    "# create french test batch\n",
    "def get_test_batch_fr(samples, labels):\n",
    "    batch_samples = []\n",
    "    # add french test samples\n",
    "    for i in range(0, len(labels)):\n",
    "        sample_frames = []\n",
    "        counter = 0\n",
    "        for j in range (i * n_frames_fr, i * n_frames_fr + n_frames):\n",
    "            counter += 1\n",
    "            if counter <= n_frames_fr:\n",
    "                for k in range (0,n_features):\n",
    "                    sample_frames.append(samples[j][k])\n",
    "            else:\n",
    "                for k in range (0,n_features):\n",
    "                    sample_frames.append(0)\n",
    "        batch_samples.append(sample_frames)\n",
    "    return batch_samples"
   ]
  },
  {
   "cell_type": "markdown",
   "metadata": {},
   "source": [
    "## define layers of our model"
   ]
  },
  {
   "cell_type": "code",
   "execution_count": null,
   "metadata": {},
   "outputs": [],
   "source": [
    "# define convolution layer\n",
    "def conv2d(x, W, b, name=\"Convolution\"): \n",
    "    with tf.name_scope(name):\n",
    "        conv = tf.nn.conv2d(x, W, strides=[1, 1, 1, 1], padding = 'VALID')\n",
    "        act = tf.nn.relu(conv + b)\n",
    "        return tf.nn.max_pool(act, ksize = [1, 30, 1, 1], strides = [1, 3, 1, 1], padding = 'SAME')\n",
    "\n",
    "# create model\n",
    "def conv_net(x, weights, biases):\n",
    "    # reshape input data to [ #samples, #frames, # features, 1]\n",
    "    x = tf.reshape(x, shape = [-1, n_frames, n_features, 1])\n",
    "    # convolution layer with maxpooling\n",
    "    act1 = conv2d(x, weights['wc1'], biases['bc1'])\n",
    "    \n",
    "    # reshape to one fully connected layer with inputs as a list\n",
    "    act1 = tf.reshape(act1, [-1, weights['out'].get_shape().as_list()[0]])\n",
    "    # apply dropout\n",
    "    act1 = tf.nn.dropout(act1, keep_prob)\n",
    "    \n",
    "    # output, class prediciton\n",
    "    out = tf.add(tf.matmul(act1, weights['out']), biases['out'])\n",
    "    return out #return the classification"
   ]
  },
  {
   "cell_type": "markdown",
   "metadata": {},
   "source": [
    "### kernels"
   ]
  },
  {
   "cell_type": "code",
   "execution_count": null,
   "metadata": {},
   "outputs": [],
   "source": [
    "# create weights\n",
    "weights = {\n",
    "    'wc1': tf.Variable(tf.random_normal([10,n_features,1,50])),\n",
    "    'out': tf.Variable(tf.random_normal([int(math.ceil((n_frames-9)/3) * 50), n_classes]))\n",
    "}\n",
    "\n",
    "# create biases\n",
    "biases = {\n",
    "    'bc1': tf.Variable(tf.random_normal([50])),\n",
    "    'out': tf.Variable(tf.random_normal([n_classes]))\n",
    "}"
   ]
  },
  {
   "cell_type": "markdown",
   "metadata": {},
   "source": [
    "### define loss function and optimizer used"
   ]
  },
  {
   "cell_type": "code",
   "execution_count": null,
   "metadata": {},
   "outputs": [],
   "source": [
    "# construct model\n",
    "pred = conv_net(x, weights, biases)\n",
    "\n",
    "# define optimizer and loss\n",
    "cost = tf.reduce_mean(tf.nn.softmax_cross_entropy_with_logits_v2(logits = pred, labels = y))\n",
    "optimizer = tf.train.AdamOptimizer(learning_rate = LEARN_RATE).minimize(cost)\n",
    "\n",
    "# evaluate model with tf.equal(predictedValue, testData)\n",
    "correct_pred = tf.equal(tf.argmax(pred, 1), tf.argmax(y, 1))\n",
    "accuracy = tf.reduce_mean(tf.cast(correct_pred, tf.float32))"
   ]
  },
  {
   "cell_type": "markdown",
   "metadata": {},
   "source": [
    "### start training the network"
   ]
  },
  {
   "cell_type": "code",
   "execution_count": null,
   "metadata": {},
   "outputs": [],
   "source": [
    "# launch the graph\n",
    "sess = tf.Session()\n",
    "init = tf.global_variables_initializer()\n",
    "sess.run(init)\n",
    "step = 1\n",
    "# keep training until max iterations\n",
    "while step * BATCH_SIZE < ITERATIONS:\n",
    "    batch_x, batch_y = get_next_train_batch()\n",
    "    # Run optimization (backprop)\n",
    "    sess.run(optimizer, feed_dict={x: batch_x, y: batch_y, keep_prob: dropout})\n",
    "    if step % DISPLAY_STEP == 0:\n",
    "        # Calculate batch loss and accuracy\n",
    "        loss, acc = sess.run([cost, accuracy], feed_dict={x: batch_x, y: batch_y, keep_prob: 1.})\n",
    "        print(\"Iter \" + str(step*BATCH_SIZE) + \", Minibatch Loss= \" + \"{:.6f}\".format(loss) + \", Training Accuracy= \" + \"{:.5f}\".format(acc))\n",
    "    step += 1\n",
    "    \n",
    "print(\"Optimization Finished! Testing Model...\")"
   ]
  },
  {
   "cell_type": "markdown",
   "metadata": {},
   "source": [
    "## test the performance of our model"
   ]
  },
  {
   "cell_type": "code",
   "execution_count": null,
   "metadata": {},
   "outputs": [],
   "source": [
    "# Evaluate model with english test data\n",
    "test_x = get_test_batch_eng(samples_test_ENG, labels_test_ENG)\n",
    "test_y = labels_test_ENG\n",
    "accuracy_eng = sess.run(accuracy, feed_dict={x: test_x, y: test_y, keep_prob: 1.})\n",
    "print(\"English Test Accuracy: \" + str(accuracy_eng))\n",
    "\n",
    "# Evaluate model with french test data\n",
    "test_x = get_test_batch_fr(samples_test_FR, labels_test_FR)\n",
    "test_y = labels_test_FR\n",
    "accuracy_fr = sess.run(accuracy, feed_dict={x: test_x, y: test_y, keep_prob: 1.})\n",
    "print(\"French Test Accuracy: \" + str(accuracy_fr))"
   ]
  }
 ],
 "metadata": {
  "kernelspec": {
   "display_name": "Python 3",
   "language": "python",
   "name": "python3"
  },
  "language_info": {
   "codemirror_mode": {
    "name": "ipython",
    "version": 3
   },
   "file_extension": ".py",
   "mimetype": "text/x-python",
   "name": "python",
   "nbconvert_exporter": "python",
   "pygments_lexer": "ipython3",
   "version": "3.6.5"
  }
 },
 "nbformat": 4,
 "nbformat_minor": 2
}
